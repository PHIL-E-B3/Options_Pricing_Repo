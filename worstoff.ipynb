{
 "cells": [
  {
   "cell_type": "code",
   "execution_count": null,
   "id": "4e47611b",
   "metadata": {},
   "outputs": [],
   "source": [
    "class WorstOf():\n",
    "    def __init__(self, type, spots, vols, corr_matrices, r, T, strike, num_of_simulations = 100000):\n",
    "        self.type = type\n",
    "        self.spots = spots\n",
    "        self.vols = vols\n",
    "        self.corr_matrices = corr_matrices\n",
    "        self.r = r\n",
    "        self.T = T\n",
    "        self.strike = strike\n",
    "        self.num_of_simulations = num_of_simulations\n",
    "\n",
    "\n",
    "\n",
    "    def simulateGeoPaths(self):\n",
    "        \"\"\"\n",
    "        Simulation of multiple underlying assets under the \n",
    "        risk-neutral measure using a single-step Monte Carlo.\n",
    "        \"\"\"\n",
    "\n",
    "        n_assets = len(self.spots)\n",
    "        L = np.linalg.cholesky(self.corr_matrices)        # Cholesky decomposition of the correlation matrix\n",
    "        Z = np.random.normal(0.0, 1.0, (self.num_of_simulations, n_assets))\n",
    "        correlated_Z = np.dot(Z, L.T)\n",
    "        #correlated_Z = Z @ L\n",
    "        single_step_terminal_price = np.zeros_like(correlated_Z)\n",
    "\n",
    "        for i in range(n_assets):\n",
    "            drift = (self.r - 0.5 * self.vols[i]**2) * self.T\n",
    "            diffusion = self.vols[i] * np.sqrt(self.T) * correlated_Z[:, i]\n",
    "            single_step_terminal_price[:, i] = self.spots[i] * np.exp(drift + diffusion)\n",
    "        return single_step_terminal_price\n",
    "    \n",
    "    def price(self):\n",
    "        \"\"\"\n",
    "        Price the worst of option using the simulated price paths.\n",
    "        \"\"\"\n",
    "        \n",
    "        price_Paths = self.simulateGeoPaths()\n",
    "        percentage_performance = price_Paths / self.spots\n",
    "        worst_performer_index = np.argmin(percentage_performance, axis=1)\n",
    "        worst_performer_dollar = np.array([percentage_performance[i, idx] * self.spots[idx] for i, idx in enumerate(worst_performer_index)])\n",
    "        if self.type == 'Call':\n",
    "            payoff = np.maximum(0.0, worst_performer_dollar - self.strike*self.spots[worst_performer_index])\n",
    "        elif self.type == 'Put':\n",
    "            payoff = np.maximum(0.0, self.strike*self.spots[worst_performer_index] - worst_performer_dollar)\n",
    "        \n",
    "        discount_payoff = payoff * np.exp(-self.r * self.T)\n",
    "        return np.mean(discount_payoff)\n"
   ]
  }
 ],
 "metadata": {
  "kernelspec": {
   "display_name": "Python 3",
   "language": "python",
   "name": "python3"
  },
  "language_info": {
   "name": "python",
   "version": "3.9.6"
  }
 },
 "nbformat": 4,
 "nbformat_minor": 5
}
